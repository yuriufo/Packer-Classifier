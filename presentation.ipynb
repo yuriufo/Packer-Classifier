{
 "cells": [
  {
   "cell_type": "markdown",
   "metadata": {
    "cell_style": "center"
   },
   "source": [
    "![系统流程](./images/系统总体流程图.png)"
   ]
  },
  {
   "cell_type": "markdown",
   "metadata": {},
   "source": [
    "# 前期准备"
   ]
  },
  {
   "cell_type": "markdown",
   "metadata": {},
   "source": [
    "## 相关参数"
   ]
  },
  {
   "cell_type": "code",
   "execution_count": 1,
   "metadata": {},
   "outputs": [],
   "source": [
    "from pathlib import Path"
   ]
  },
  {
   "cell_type": "code",
   "execution_count": 2,
   "metadata": {},
   "outputs": [],
   "source": [
    "config = {\n",
    "    \"seed\": 519,\n",
    "    \"vectorizer_file\": \"vectorizer.json\",\n",
    "    \"model_state_file\": \"model.pth\",\n",
    "    \"save_dir\": Path.cwd() / \"experiments\" / \"main\" / \"1558276575_74f6ab40-7a43-11e9-8b2b-0242ac1c0002\",\n",
    "    # ODEnet\n",
    "    \"input_dim\": 3,\n",
    "    \"state_dim\": 64,\n",
    "    \"tol\": 1e-5,\n",
    "    # GRU\n",
    "    \"cutoff\": 25,\n",
    "    \"num_layers\": 1,\n",
    "    \"embedding_dim\": 100,\n",
    "    \"kernels\": [1, 3],\n",
    "    \"num_filters\": 100,\n",
    "    \"rnn_hidden_dim\": 64,\n",
    "    \"hidden_dim\": 36,\n",
    "    \"dropout_p\": 0.5,\n",
    "    \"bidirectional\": False,\n",
    "}"
   ]
  },
  {
   "cell_type": "markdown",
   "metadata": {},
   "source": [
    "## 特征提取准备"
   ]
  },
  {
   "cell_type": "markdown",
   "metadata": {},
   "source": [
    "### Sandbox类\n",
    "\n",
    "* vmrun_path：vmrun.exe路径\n",
    "* vmx_path：虚拟机.vmx路径\n",
    "* vm_snapshot：虚拟机快照名real\n",
    "* vm_user：虚拟机用户名\n",
    "* vm_pass：虚拟机密码\n",
    "* script_path：虚拟机内Python脚本路径\n",
    "* python_path：虚拟机内Python路径\n",
    "* malware_path：虚拟机内暂存样本路径\n",
    "* timeout：运行脚本超时时间"
   ]
  },
  {
   "cell_type": "code",
   "execution_count": 3,
   "metadata": {},
   "outputs": [],
   "source": [
    "from my_sandbox.get_features import Sandbox"
   ]
  },
  {
   "cell_type": "code",
   "execution_count": 4,
   "metadata": {},
   "outputs": [],
   "source": [
    "sb = Sandbox(\n",
    "        vmrun_path=r\"E:\\VMware\\vmrun.exe\",\n",
    "        vmx_path=r\"D:\\虚拟机\\Win10\\Windows 10 x64.vmx\",\n",
    "        vm_snapshot=\"real\",\n",
    "        vm_user=\"msi\",\n",
    "        vm_pass=\"123456\",\n",
    "        script_path=r\"C:\\Users\\msi\\Desktop\\my_sandbox_script.py\",\n",
    "        python_path=r\"C:\\Users\\msi\\AppData\\Local\\Programs\\Python\\Python35\\python.exe\",\n",
    "        malware_path=r\"C:\\Malware\",\n",
    "        timeout=10)"
   ]
  },
  {
   "cell_type": "markdown",
   "metadata": {},
   "source": [
    "## 预处理准备"
   ]
  },
  {
   "cell_type": "code",
   "execution_count": 5,
   "metadata": {},
   "outputs": [],
   "source": [
    "from pre_data.preprocess import Preproce"
   ]
  },
  {
   "cell_type": "code",
   "execution_count": 6,
   "metadata": {},
   "outputs": [],
   "source": [
    "pp = Preproce()"
   ]
  },
  {
   "cell_type": "markdown",
   "metadata": {},
   "source": [
    "## 加载向量器"
   ]
  },
  {
   "cell_type": "code",
   "execution_count": 7,
   "metadata": {},
   "outputs": [],
   "source": [
    "import json\n",
    "from Datasets.datasets import Vectorizer"
   ]
  },
  {
   "cell_type": "code",
   "execution_count": 8,
   "metadata": {},
   "outputs": [],
   "source": [
    "vectorizer_filepath = config['save_dir'] / config['vectorizer_file']\n",
    "with vectorizer_filepath.open() as fp:\n",
    "    vectorizer = Vectorizer.from_serializable(json.load(fp))"
   ]
  },
  {
   "cell_type": "code",
   "execution_count": 9,
   "metadata": {
    "scrolled": false
   },
   "outputs": [
    {
     "name": "stdout",
     "output_type": "stream",
     "text": [
      "<IMG_SequenceVocabulary(train_means: [128.47567749023438, 93.32111358642578, 38.726646423339844], train_stds: [59.69920349121094, 89.16869354248047, 61.76454162597656]>\n",
      "<INS_SequenceVocabulary(size=106)>\n",
      "<INS_SequenceVocabulary(size=34)>\n",
      "<Vocabulary(size=7)>\n"
     ]
    }
   ],
   "source": [
    "print(vectorizer.image_vocab)\n",
    "print(vectorizer.ins_word_vocab)\n",
    "print(vectorizer.ins_char_vocab)\n",
    "print(vectorizer.packer_vocab)"
   ]
  },
  {
   "cell_type": "markdown",
   "metadata": {},
   "source": [
    "## 加载模型"
   ]
  },
  {
   "cell_type": "code",
   "execution_count": 10,
   "metadata": {},
   "outputs": [],
   "source": [
    "from main_train import MainModel\n",
    "import torch"
   ]
  },
  {
   "cell_type": "code",
   "execution_count": 11,
   "metadata": {},
   "outputs": [
    {
     "data": {
      "text/plain": [
       "IncompatibleKeys(missing_keys=[], unexpected_keys=[])"
      ]
     },
     "execution_count": 11,
     "metadata": {},
     "output_type": "execute_result"
    }
   ],
   "source": [
    "model = MainModel(\n",
    "    input_dim=config[\"input_dim\"],\n",
    "    state_dim=config[\"state_dim\"],\n",
    "    tol=config[\"tol\"],\n",
    "    embedding_dim=config[\"embedding_dim\"],\n",
    "    num_word_embeddings=len(vectorizer.ins_word_vocab),\n",
    "    num_char_embeddings=len(vectorizer.ins_char_vocab),\n",
    "    kernels=config[\"kernels\"],\n",
    "    num_input_channels=config[\"embedding_dim\"],\n",
    "    num_output_channels=config[\"num_filters\"],\n",
    "    rnn_hidden_dim=config[\"rnn_hidden_dim\"],\n",
    "    hidden_dim=config[\"hidden_dim\"],\n",
    "    output_dim=len(vectorizer.packer_vocab),\n",
    "    num_layers=config[\"num_layers\"],\n",
    "    bidirectional=config[\"bidirectional\"],\n",
    "    dropout_p=config[\"dropout_p\"],\n",
    "    word_padding_idx=vectorizer.ins_word_vocab.mask_index,\n",
    "    char_padding_idx=vectorizer.ins_char_vocab.mask_index)\n",
    "\n",
    "model.load_state_dict(torch.load(config['save_dir'] / config['model_state_file']))"
   ]
  },
  {
   "cell_type": "code",
   "execution_count": 12,
   "metadata": {},
   "outputs": [],
   "source": [
    "model = model.to(\"cpu\")\n",
    "# print(model.named_modules)"
   ]
  },
  {
   "cell_type": "markdown",
   "metadata": {},
   "source": [
    "## 预测类"
   ]
  },
  {
   "cell_type": "code",
   "execution_count": 13,
   "metadata": {},
   "outputs": [],
   "source": [
    "class Inference(object):\n",
    "    def __init__(self, model, vectorizer):\n",
    "        self.model = model\n",
    "        self.vectorizer = vectorizer\n",
    "\n",
    "    def predict_packer(self, image, ins):\n",
    "        # 向量化\n",
    "        image_vector, ins_word_vector, ins_char_vector, ins_length = self.vectorizer.vectorize(image, ins)\n",
    "        \n",
    "        image_vector = torch.FloatTensor(image_vector).unsqueeze(0)\n",
    "        ins_word_vector = torch.tensor(ins_word_vector).unsqueeze(0)\n",
    "        ins_char_vector = torch.tensor(ins_char_vector).unsqueeze(0)\n",
    "        ins_length = torch.tensor([ins_length]).long()\n",
    "\n",
    "        # 预测\n",
    "        self.model.eval()\n",
    "        attn_scores, y_pred = self.model(x_img=image_vector,\n",
    "                                         x_word=ins_word_vector,\n",
    "                                         x_char=ins_char_vector,\n",
    "                                         x_lengths=ins_length,\n",
    "                                         device=\"cpu\",\n",
    "                                         apply_softmax=True)\n",
    "\n",
    "        # 取概率最大\n",
    "        y_prob, indices = y_pred.max(dim=1)\n",
    "        index = indices.item()\n",
    "\n",
    "        # 预测壳类型\n",
    "        packer = vectorizer.packer_vocab.lookup_index(index)\n",
    "        probability = y_prob.item()\n",
    "        return {'packer': packer, 'probability': probability, \n",
    "                'attn_scores': attn_scores}\n",
    "\n",
    "    def predict_top_k(self, image, ins, k):\n",
    "        # 向量化\n",
    "        image_vector, ins_word_vector, ins_char_vector, ins_length = self.vectorizer.vectorize(image, ins)\n",
    "        \n",
    "        image_vector = torch.FloatTensor(image_vector).unsqueeze(0)\n",
    "        ins_word_vector = torch.tensor(ins_word_vector).unsqueeze(0)\n",
    "        ins_char_vector = torch.tensor(ins_char_vector).unsqueeze(0)\n",
    "        ins_length = torch.tensor([ins_length]).long()\n",
    "\n",
    "         # 预测\n",
    "        self.model.eval()\n",
    "        _, y_pred = self.model(x_img=image_vector,\n",
    "                               x_word=ins_word_vector,\n",
    "                               x_char=ins_char_vector,\n",
    "                               x_lengths=ins_length,\n",
    "                               device=\"cpu\",\n",
    "                               apply_softmax=True)\n",
    "        \n",
    "        # Top k\n",
    "        y_prob, indices = torch.topk(y_pred, k=k)\n",
    "        probabilities = y_prob.detach().numpy()[0]\n",
    "        indices = indices.detach().numpy()[0]\n",
    "\n",
    "        # 结果\n",
    "        results = []\n",
    "        for probability, index in zip(probabilities, indices):\n",
    "            packer = self.vectorizer.packer_vocab.lookup_index(index)\n",
    "            results.append({'packer': packer, 'probability': probability})\n",
    "\n",
    "        return results"
   ]
  },
  {
   "cell_type": "code",
   "execution_count": 14,
   "metadata": {},
   "outputs": [],
   "source": [
    "inference = Inference(model=model, vectorizer=vectorizer)"
   ]
  },
  {
   "cell_type": "markdown",
   "metadata": {},
   "source": [
    "# 开始"
   ]
  },
  {
   "cell_type": "markdown",
   "metadata": {},
   "source": [
    "## 输入"
   ]
  },
  {
   "cell_type": "code",
   "execution_count": 15,
   "metadata": {},
   "outputs": [],
   "source": [
    "input_path = r\"C:\\Users\\msi\\Desktop\\aspack变形.exe\""
   ]
  },
  {
   "cell_type": "markdown",
   "metadata": {},
   "source": [
    "## 特征提取"
   ]
  },
  {
   "cell_type": "markdown",
   "metadata": {},
   "source": [
    "![特征提取](./images/特征提取模块.png)"
   ]
  },
  {
   "cell_type": "code",
   "execution_count": 17,
   "metadata": {
    "scrolled": false
   },
   "outputs": [
    {
     "name": "stdout",
     "output_type": "stream",
     "text": [
      "--> revertToSnapshot\n",
      " \n",
      "--> start\n",
      " \n",
      "--> copyFileFromHostToGuest\n",
      " \n",
      "--> runProgramInGuest\n",
      " \n",
      "--> copyFileFromGuestToHost\n",
      " \n",
      "--> stop\n",
      " \n",
      "--> get features\n",
      "--> completed!\n"
     ]
    }
   ],
   "source": [
    "# 输入要检测的文件路径，得到特征\n",
    "features = sb.get_features(input_path, no_gui=False, stop=True)"
   ]
  },
  {
   "cell_type": "code",
   "execution_count": 18,
   "metadata": {
    "scrolled": false
   },
   "outputs": [
    {
     "data": {
      "text/plain": [
       "'0x0044d001 9c --> pushfd '"
      ]
     },
     "execution_count": 18,
     "metadata": {},
     "output_type": "execute_result"
    }
   ],
   "source": [
    "features.split(\"\\n\")[0]"
   ]
  },
  {
   "cell_type": "code",
   "execution_count": 19,
   "metadata": {},
   "outputs": [
    {
     "name": "stdout",
     "output_type": "stream",
     "text": [
      "--> revertToSnapshot\n",
      " \n",
      "--> start\n",
      " \n",
      "--> copyFileFromHostToGuest\n",
      " \n",
      "--> runProgramInGuest\n",
      " \n",
      "--> copyFileFromGuestToHost\n",
      " \n",
      "--> stop\n",
      " \n",
      "--> get features\n",
      "--> completed!\n"
     ]
    }
   ],
   "source": [
    "features2 = sb.get_features(r\"C:\\Users\\msi\\Desktop\\2019_3_28.kdbx\", no_gui=False, stop=True)"
   ]
  },
  {
   "cell_type": "markdown",
   "metadata": {},
   "source": [
    "## 预处理"
   ]
  },
  {
   "cell_type": "markdown",
   "metadata": {},
   "source": [
    "![预处理模块](./images/预处理模块.png)"
   ]
  },
  {
   "cell_type": "code",
   "execution_count": 21,
   "metadata": {},
   "outputs": [],
   "source": [
    "data_dict = pp.preprocess(features)"
   ]
  },
  {
   "cell_type": "code",
   "execution_count": 20,
   "metadata": {
    "scrolled": true
   },
   "outputs": [
    {
     "name": "stdout",
     "output_type": "stream",
     "text": [
      "get error! this is not PE\n",
      "None\n"
     ]
    }
   ],
   "source": [
    "# 异常\n",
    "_ = pp.preprocess(features2)\n",
    "print(_)"
   ]
  },
  {
   "cell_type": "code",
   "execution_count": 22,
   "metadata": {},
   "outputs": [],
   "source": [
    "img = data_dict['image'][0]\n",
    "ins = data_dict['ins'][0]"
   ]
  },
  {
   "cell_type": "code",
   "execution_count": 23,
   "metadata": {},
   "outputs": [
    {
     "name": "stderr",
     "output_type": "stream",
     "text": [
      "Clipping input data to the valid range for imshow with RGB data ([0..1] for floats or [0..255] for integers).\n"
     ]
    },
    {
     "data": {
      "image/png": "[encoded data removed]",
      "text/plain": [
       "<Figure size 432x288 with 1 Axes>"
      ]
     },
     "metadata": {
      "needs_background": "light"
     },
     "output_type": "display_data"
    }
   ],
   "source": [
    "import matplotlib.pyplot as plt\n",
    "plt.imshow(img)\n",
    "plt.show()"
   ]
  },
  {
   "cell_type": "code",
   "execution_count": 24,
   "metadata": {},
   "outputs": [
    {
     "data": {
      "text/plain": [
       "array([156.,   0.,   0.], dtype=float32)"
      ]
     },
     "execution_count": 24,
     "metadata": {},
     "output_type": "execute_result"
    }
   ],
   "source": [
    "img[0,0,:]"
   ]
  },
  {
   "cell_type": "code",
   "execution_count": 25,
   "metadata": {},
   "outputs": [
    {
     "data": {
      "text/plain": [
       "'pushfd call pop inc push ret jmp call pop mov add sub cmp mov jnz lea push call mov mov lea push push call mov lea push push call mov lea jmp mov or jz lea cmp jz push push push push call mov mov add push push push push call mov push mov add push push push push call mov sub lea push call push push push mov xor xor lea mov push call call pop sub ret mov pop mov add shl add inc cmp jb mov push call call pop sub ret mov pop mov add shl add inc cmp jb mov push call call pop sub ret mov pop mov add shl add inc cmp jb mov push call call pop sub ret mov pop mov add shl add inc cmp jb mov push call call pop sub ret mov pop mov add shl add inc cmp jb mov push call call pop sub ret mov pop mov add shl add inc cmp jb mov push call call pop sub ret mov pop mov add shl add inc cmp jb mov push call call pop sub ret mov pop mov add shl add inc cmp jb mov push call call pop sub ret mov pop mov add shl add inc cmp jb mov push call call pop sub ret mov pop mov add shl add inc cmp jb mov push call call pop sub ret mov pop mov add shl add inc cmp jb mov push call call pop sub ret mov pop mov add shl add inc cmp jb mov push call call pop sub ret mov pop mov add shl add inc cmp jb mov push call call pop sub ret mov pop mov add shl add inc cmp jb mov push call call pop sub ret mov pop mov add shl add inc cmp jb mov push call call pop sub ret mov pop mov add shl add inc cmp jb mov push call call pop sub ret mov pop mov add shl add inc cmp jb mov push call call pop sub ret mov pop mov add shl add inc cmp jb mov push call call pop sub ret mov pop mov add shl add inc cmp jb mov push call call pop sub ret mov pop mov add shl add inc cmp jb mov push call call pop sub ret mov pop mov add shl add inc cmp jb mov push call call pop sub ret mov pop mov add shl add inc cmp jb mov push call call pop sub ret mov pop mov add shl add inc cmp jb mov push call call pop sub ret mov pop mov add shl add inc cmp jb mov push call call pop sub ret mov pop mov add shl add inc cmp jb mov push call call pop sub ret mov pop mov add shl add inc cmp jb mov push call call pop sub ret mov pop mov add shl add inc cmp jb mov push call call pop sub ret mov pop mov add shl add inc cmp jb mov push call call pop sub ret mov pop mov add shl add inc cmp jb mov push call call pop sub ret mov pop mov add shl add inc cmp jb mov push call call pop sub ret mov pop mov add shl add inc cmp jb mov push call call pop sub ret mov pop mov add shl add inc cmp jb mov push call call pop sub ret mov pop mov add shl add inc cmp jb mov push call call pop sub ret mov pop mov add shl add inc cmp jb mov push call call pop sub ret mov pop mov add shl add inc cmp jb mov push call call pop sub ret mov pop mov add shl add inc cmp jb mov push call call pop sub ret mov pop mov add shl add inc cmp jb mov push call call pop sub ret mov pop mov add shl add inc cmp jb mov push call call pop sub ret mov pop mov add shl add inc cmp jb mov push call call pop sub ret mov pop mov add shl add inc cmp jb mov push call call pop sub ret mov pop mov add shl add inc cmp jb mov push call call pop sub ret mov pop mov add shl add inc cmp jb mov push call call pop sub ret mov pop mov add shl add inc cmp jb mov push call call pop sub ret mov pop mov add shl add inc cmp jb mov push call call pop sub ret mov pop mov add shl add inc cmp jb mov push call call pop sub ret mov pop mov add shl add inc cmp jb mov push call call pop sub ret mov pop mov add shl add inc cmp jb mov push call call pop sub ret mov pop mov add shl add inc cmp jb mov push call call pop sub ret mov pop mov add shl add inc cmp jb mov push call call pop sub ret mov pop mov add shl add inc cmp jb mov push call call pop sub ret mov pop mov add shl add inc cmp jb mov push call call pop sub ret mov pop mov add shl add inc cmp jb mov push call call pop sub ret mov pop mov add shl add inc cmp jb mov push call call pop sub ret mov pop mov add shl add inc cmp jb mov push call call pop sub ret mov pop mov add shl add inc cmp jb mov push call call pop sub ret mov pop mov add shl add inc cmp jb mov push call call pop sub ret mov pop mov add shl add inc cmp jb mov push call call pop sub ret mov pop mov add shl add inc cmp jb mov lea push push call mov mov mov mov lea mov add ret push push lea call mov mov mov mov lea mov add'"
      ]
     },
     "execution_count": 25,
     "metadata": {},
     "output_type": "execute_result"
    }
   ],
   "source": [
    "ins"
   ]
  },
  {
   "cell_type": "markdown",
   "metadata": {},
   "source": [
    "## 分类与输出"
   ]
  },
  {
   "cell_type": "markdown",
   "metadata": {},
   "source": [
    "![分类模型](./images/分类模型.png)"
   ]
  },
  {
   "cell_type": "markdown",
   "metadata": {},
   "source": [
    "### 预测"
   ]
  },
  {
   "cell_type": "code",
   "execution_count": 26,
   "metadata": {},
   "outputs": [
    {
     "name": "stdout",
     "output_type": "stream",
     "text": [
      "C:\\Users\\msi\\Desktop\\aspack变形.exe → ASPack (p=1.00)\n"
     ]
    }
   ],
   "source": [
    "prediction = inference.predict_packer(img, ins)\n",
    "print(\"{} → {} (p={:0.2f})\".format(input_path, prediction['packer'], \n",
    "                                    prediction['probability']))"
   ]
  },
  {
   "cell_type": "markdown",
   "metadata": {},
   "source": [
    "### top-k"
   ]
  },
  {
   "cell_type": "code",
   "execution_count": 27,
   "metadata": {
    "scrolled": true
   },
   "outputs": [
    {
     "name": "stdout",
     "output_type": "stream",
     "text": [
      "C:\\Users\\msi\\Desktop\\aspack变形.exe: \n",
      "ASPack (p=1.00)\n",
      "PeSpin (p=0.00)\n",
      "Molebox (p=0.00)\n",
      "Normal (p=0.00)\n",
      "NsPack (p=0.00)\n",
      "PECompact (p=0.00)\n",
      "UPX (p=0.00)\n"
     ]
    }
   ],
   "source": [
    "# Top-k\n",
    "top_k = inference.predict_top_k(img, ins, k=len(vectorizer.packer_vocab))\n",
    "print (\"{}: \".format(input_path))\n",
    "for result in top_k:\n",
    "    print(\"{} (p={:0.2f})\".format(result['packer'], \n",
    "                                  result['probability']))"
   ]
  },
  {
   "cell_type": "code",
   "execution_count": null,
   "metadata": {},
   "outputs": [],
   "source": []
  }
 ],
 "metadata": {
  "kernelspec": {
   "display_name": "Python 3",
   "language": "python",
   "name": "python3"
  },
  "language_info": {
   "codemirror_mode": {
    "name": "ipython",
    "version": 3
   },
   "file_extension": ".py",
   "mimetype": "text/x-python",
   "name": "python",
   "nbconvert_exporter": "python",
   "pygments_lexer": "ipython3",
   "version": "3.5.4"
  },
  "toc": {
   "base_numbering": 1,
   "nav_menu": {},
   "number_sections": true,
   "sideBar": true,
   "skip_h1_title": false,
   "title_cell": "Table of Contents",
   "title_sidebar": "Contents",
   "toc_cell": false,
   "toc_position": {
    "height": "calc(100% - 180px)",
    "left": "10px",
    "top": "150px",
    "width": "182px"
   },
   "toc_section_display": true,
   "toc_window_display": true
  }
 },
 "nbformat": 4,
 "nbformat_minor": 2
}
